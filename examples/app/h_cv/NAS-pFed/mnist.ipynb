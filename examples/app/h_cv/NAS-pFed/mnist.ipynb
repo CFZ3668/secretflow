{
 "cells": [
  {
   "cell_type": "code",
   "id": "71d21406",
   "metadata": {
    "ExecuteTime": {
     "end_time": "2025-04-29T22:14:06.070583Z",
     "start_time": "2025-04-29T07:58:48.070498Z"
    }
   },
   "source": [
    "\n",
    "import argparse\n",
    "import time\n",
    "import secretflow as sf\n",
    "\n",
    "from torchvision import datasets, transforms\n",
    "from tqdm import tqdm\n",
    "\n",
    "from darts.model import NetworkEMNIST\n",
    "from dataSplit.mnist.mnist import split_mnist\n",
    "from model.Server import Server\n",
    "from model.Client import Client\n",
    "\n",
    "import random\n",
    "import torch\n",
    "import numpy as np\n",
    "print(torch.cuda.is_available())\n",
    "print(torch.cuda.device_count())\n",
    "\n",
    "RANDOM_SEED = 0\n",
    "random.seed(RANDOM_SEED)\n",
    "torch.manual_seed(RANDOM_SEED)\n",
    "np.random.seed(RANDOM_SEED)\n",
    "\n",
    "\n",
    "def add_args(parser):\n",
    "    parser.add_argument('--stage', type=str, default='search',\n",
    "                        help='stage: search; train')\n",
    "    parser.add_argument('--device', type=str, default='cuda:0', help='cpu or gpu')\n",
    "    parser.add_argument('--dataset', type=str, default='mnist', metavar='N',\n",
    "                        help='dataset used for training')\n",
    "    parser.add_argument('--batch_size', type=int, default=64, metavar='N',\n",
    "                        help='input batch size for training (default: 64)')\n",
    "    parser.add_argument('--client_number', type=int, default=20, metavar='NN',\n",
    "                        help='number of workers in a distributed cluster')\n",
    "    parser.add_argument('--comm_round', type=int, default=50,\n",
    "                        help='how many round of communications we shoud use')\n",
    "    parser.add_argument('--layers', type=int, default=3, help='DARTS layers')\n",
    "    parser.add_argument('--dirichlet', type=float, default=0.6, help='狄利克雷分布的参数，用于分割数据集')\n",
    "    parser.add_argument('--num_classes', type=int, default=10, help='数据集类别个数')\n",
    "    parser.add_argument('--temperature', type=float, default=5, help='设置蒸馏温度')\n",
    "    parser.add_argument('--model', type=str, default='resnet', metavar='N',\n",
    "                        help='neural network used in training')\n",
    "    parser.add_argument('--wd', help='weight decay parameter;', type=float, default=0.001)\n",
    "    parser.add_argument('--epochs', type=int, default=5, metavar='EP',\n",
    "                        help='how many epochs will be trained locally')\n",
    "    parser.add_argument('--local_points', type=int, default=5000, metavar='LP',\n",
    "                        help='the approximate fixed number of data points we will have on each local worker')\n",
    "    parser.add_argument('--init_channels', type=int, default=16, help='num of init channels')\n",
    "    parser.add_argument('--learning_rate', type=float, default=0.025, help='init learning rate')\n",
    "    parser.add_argument('--learning_rate_min', type=float, default=0.001, help='min learning rate')\n",
    "    parser.add_argument('--momentum', type=float, default=0.9, help='momentum')\n",
    "    parser.add_argument('--weight_decay', type=float, default=3e-4, help='weight decay')\n",
    "    parser.add_argument('--arch_learning_rate', type=float, default=3e-4, help='learning rate for arch encoding')\n",
    "    parser.add_argument('--arch_weight_decay', type=float, default=1e-3, help='weight decay for arch encoding')\n",
    "    parser.add_argument('--grad_clip', type=float, default=5, help='gradient clipping')\n",
    "    parser.add_argument('--lambda_train_regularizer', type=float, default=1, help='train regularizer parameter')\n",
    "    parser.add_argument('--lambda_valid_regularizer', type=float, default=1, help='validation regularizer parameter')\n",
    "    parser.add_argument('--report_freq', type=float, default=10, help='report frequency')\n",
    "    parser.add_argument('--tau_max', type=float, default=10, help='initial tau')\n",
    "    parser.add_argument('--tau_min', type=float, default=1, help='minimum tau')\n",
    "    parser.add_argument('--auxiliary', action='store_true', default=False, help='use auxiliary tower')\n",
    "    parser.add_argument('--arch', type=str, default='FedNAS_V1', help='which architecture to use')\n",
    "\n",
    "    # args = parser.parse_args()\n",
    "    args, unknown = parser.parse_known_args()\n",
    "    return args\n",
    "\n",
    "\n",
    "if __name__ == \"__main__\":\n",
    "    parser = argparse.ArgumentParser()\n",
    "    args = add_args(parser)\n",
    "\n",
    "    print(str(args.num_classes) + \" \" + str(args.client_number)+ \" \" + str(args.comm_round))\n",
    "\n",
    "    device = torch.device(args.device)\n",
    "\n",
    "    transform = transforms.Compose([\n",
    "        transforms.ToTensor(),\n",
    "    ])\n",
    "    train_dataset = datasets.MNIST('./dataset', train=True, download=True, transform=transform)\n",
    "    test_dataset = datasets.MNIST('./dataset', train=False, download=True, transform=transform)\n",
    "\n",
    "    train_client_samples, test_client_samples = split_mnist(args.dirichlet, args.client_number)\n",
    "    train_dataloader, test_dataloader = [], []\n",
    "    search_dataloader, val_dataloader = [], []\n",
    "    for i in range(args.client_number):\n",
    "        random.shuffle(train_client_samples[i])\n",
    "        half_size = len(train_client_samples[i]) // 2\n",
    "        first_half = train_client_samples[i][:half_size]\n",
    "        second_half = train_client_samples[i][half_size:]\n",
    "        search_subset = torch.utils.data.Subset(train_dataset, indices=first_half)\n",
    "        search_sub_loader = torch.utils.data.DataLoader(search_subset, batch_size=args.batch_size)\n",
    "        val_subset = torch.utils.data.Subset(train_dataset, indices=second_half)\n",
    "        val_sub_loader = torch.utils.data.DataLoader(val_subset, batch_size=args.batch_size)\n",
    "        train_subset = torch.utils.data.Subset(train_dataset, indices=train_client_samples[i])\n",
    "        train_sub_loader = torch.utils.data.DataLoader(train_subset, batch_size=args.batch_size)\n",
    "        test_subset = torch.utils.data.Subset(test_dataset, indices=test_client_samples[i])\n",
    "        test_sub_loader = torch.utils.data.DataLoader(test_subset, batch_size=args.batch_size)\n",
    "        search_dataloader.append(search_sub_loader)\n",
    "        val_dataloader.append(val_sub_loader)\n",
    "        train_dataloader.append(train_sub_loader)\n",
    "        test_dataloader.append(test_sub_loader)\n",
    "\n",
    "    clients_name = ['client' + str(i + 1) for i in range(args.client_number)]\n",
    "    print(clients_name)\n",
    "    clients_id = []\n",
    "    sf.init(clients_name, address='local', num_gpus=1, debug_mode=True)\n",
    "    for i in clients_name:\n",
    "        clients_id.append(sf.PYU(i))\n",
    "    server_pyu = sf.PYU(\"server\")\n",
    "\n",
    "    server = Server(None, None, 60000, args.client_number, device, args, device=server_pyu)\n",
    "\n",
    "    clients = []\n",
    "    for client_id in range(args.client_number):\n",
    "        clients.append(Client(client_id+1, search_dataloader[client_id], val_dataloader[client_id], train_dataloader[client_id], test_dataloader[client_id], 60000/args.client_number, device, args, device=clients_id[client_id]))\n",
    "\n",
    "    global_model_params = None\n",
    "    global_arch_params = None\n",
    "\n",
    "    print(\"**************开始搜索全局模型**************\")\n",
    "    for i in tqdm(range(args.comm_round)):\n",
    "        weights_list, alphas_list, local_sample_num_list = [], [], []\n",
    "        if global_model_params is None:\n",
    "            global_model_params = server.get_model_weight()\n",
    "            global_arch_params = server.get_arch_parameters()\n",
    "        for j in range(len(clients)):\n",
    "            clients[j].update_model(global_model_params.to(clients[j].device))\n",
    "            clients[j].update_arch(global_arch_params.to(clients[j].device))\n",
    "            start_time = time.time()\n",
    "            clients[j].search()\n",
    "            train_finished_time = time.time()\n",
    "            print(\"客户端索引：%d, 本地搜索时间: %d\" % (j, train_finished_time - start_time))\n",
    "            client_weight = clients[j].get_weights()\n",
    "            client_alphas = clients[j].get_alphas()\n",
    "            client_local_sample_number = clients[j].get_local_sample_number()\n",
    "            weights_list.append(client_weight.to(server.device))\n",
    "            alphas_list.append(client_alphas.to(server.device))\n",
    "            local_sample_num_list.append(client_local_sample_number.to(server.device))\n",
    "        for j in range(len(clients)):\n",
    "            server.add_local_trained_result(j, weights_list[j], alphas_list[j], local_sample_num_list[j])\n",
    "        server.aggregate()\n",
    "    print(\"**************全局模型已经搜索完毕**************\")\n",
    "    print(\"**************通过全局模型，指导客户端模型进行本地搜索与训练*****************\")\n",
    "    for j in tqdm(range(len(clients))):\n",
    "        clients[j].init_history_normal_reduce()\n",
    "        server_weight = server.get_model_weight()\n",
    "        clients[j].init_server_model(server_weight.to(clients[j].device))\n",
    "        for m in range(10):\n",
    "            start_time = time.time()\n",
    "            clients[j].distillation_search()\n",
    "            train_finished_time = time.time()\n",
    "        genotype = clients[j].get_genotype().data\n",
    "        search_model_weights = clients[j].get_weights().data\n",
    "        model = NetworkEMNIST(args.init_channels, args.num_classes, args.layers, args.auxiliary, genotype)\n",
    "        model.load_state_dict(search_model_weights, strict=False)\n",
    "        clients[j].set_model(model)\n",
    "        max=0.0\n",
    "        for n in range(500):\n",
    "            clients[j].train()\n",
    "            clients[j].test()\n",
    "            test_acc = clients[j].get_test_acc().data\n",
    "            test_loss = clients[j].get_test_loss().data\n",
    "            if test_acc > max:\n",
    "                max = test_acc\n",
    "            with open('./result/mnist/client'+str(j)+'.txt', 'a') as file:\n",
    "                file.write(f\"{test_acc} {test_loss}\\n\")\n",
    "        print(f\"第{j}个客户端准确率为{max}\")\n"
   ],
   "outputs": [
    {
     "name": "stdout",
     "output_type": "stream",
     "text": [
      "True\n",
      "2\n",
      "10 20 50\n",
      "['client1', 'client2', 'client3', 'client4', 'client5', 'client6', 'client7', 'client8', 'client9', 'client10', 'client11', 'client12', 'client13', 'client14', 'client15', 'client16', 'client17', 'client18', 'client19', 'client20']\n",
      "<class 'darts.model_search.Network'>\n",
      "<class 'darts.model_search.Network'>\n",
      "<class 'darts.model_search.Network'>\n",
      "<class 'darts.model_search.Network'>\n",
      "<class 'darts.model_search.Network'>\n",
      "<class 'darts.model_search.Network'>\n",
      "<class 'darts.model_search.Network'>\n",
      "<class 'darts.model_search.Network'>\n",
      "<class 'darts.model_search.Network'>\n",
      "<class 'darts.model_search.Network'>\n",
      "<class 'darts.model_search.Network'>\n",
      "<class 'darts.model_search.Network'>\n",
      "<class 'darts.model_search.Network'>\n",
      "<class 'darts.model_search.Network'>\n",
      "<class 'darts.model_search.Network'>\n",
      "<class 'darts.model_search.Network'>\n",
      "<class 'darts.model_search.Network'>\n",
      "<class 'darts.model_search.Network'>\n",
      "<class 'darts.model_search.Network'>\n",
      "<class 'darts.model_search.Network'>\n",
      "<class 'darts.model_search.Network'>\n",
      "**************开始搜索全局模型**************\n"
     ]
    },
    {
     "name": "stderr",
     "output_type": "stream",
     "text": [
      "  0%|          | 0/50 [00:00<?, ?it/s]"
     ]
    },
    {
     "name": "stdout",
     "output_type": "stream",
     "text": [
      "客户端索引：0, 本地搜索时间: 19\n",
      "客户端索引：1, 本地搜索时间: 18\n",
      "客户端索引：2, 本地搜索时间: 18\n",
      "客户端索引：3, 本地搜索时间: 18\n",
      "客户端索引：4, 本地搜索时间: 19\n",
      "客户端索引：5, 本地搜索时间: 19\n",
      "客户端索引：6, 本地搜索时间: 19\n",
      "客户端索引：7, 本地搜索时间: 19\n",
      "客户端索引：8, 本地搜索时间: 19\n",
      "客户端索引：9, 本地搜索时间: 19\n",
      "客户端索引：10, 本地搜索时间: 19\n",
      "客户端索引：11, 本地搜索时间: 19\n",
      "客户端索引：12, 本地搜索时间: 19\n",
      "客户端索引：13, 本地搜索时间: 19\n",
      "客户端索引：14, 本地搜索时间: 19\n",
      "客户端索引：15, 本地搜索时间: 19\n",
      "客户端索引：16, 本地搜索时间: 19\n",
      "客户端索引：17, 本地搜索时间: 19\n",
      "客户端索引：18, 本地搜索时间: 19\n"
     ]
    },
    {
     "name": "stderr",
     "output_type": "stream",
     "text": [
      "  2%|▏         | 1/50 [06:25<5:14:54, 385.60s/it]"
     ]
    },
    {
     "name": "stdout",
     "output_type": "stream",
     "text": [
      "客户端索引：19, 本地搜索时间: 19\n",
      "客户端索引：0, 本地搜索时间: 19\n",
      "客户端索引：1, 本地搜索时间: 19\n",
      "客户端索引：2, 本地搜索时间: 19\n",
      "客户端索引：3, 本地搜索时间: 19\n",
      "客户端索引：4, 本地搜索时间: 19\n",
      "客户端索引：5, 本地搜索时间: 19\n",
      "客户端索引：6, 本地搜索时间: 19\n",
      "客户端索引：7, 本地搜索时间: 20\n",
      "客户端索引：8, 本地搜索时间: 19\n",
      "客户端索引：9, 本地搜索时间: 19\n",
      "客户端索引：10, 本地搜索时间: 19\n",
      "客户端索引：11, 本地搜索时间: 20\n",
      "客户端索引：12, 本地搜索时间: 19\n",
      "客户端索引：13, 本地搜索时间: 19\n",
      "客户端索引：14, 本地搜索时间: 20\n",
      "客户端索引：15, 本地搜索时间: 19\n",
      "客户端索引：16, 本地搜索时间: 19\n",
      "客户端索引：17, 本地搜索时间: 20\n",
      "客户端索引：18, 本地搜索时间: 20\n"
     ]
    },
    {
     "name": "stderr",
     "output_type": "stream",
     "text": [
      "  4%|▍         | 2/50 [12:59<5:12:28, 390.59s/it]"
     ]
    },
    {
     "name": "stdout",
     "output_type": "stream",
     "text": [
      "客户端索引：19, 本地搜索时间: 20\n",
      "客户端索引：0, 本地搜索时间: 19\n",
      "客户端索引：1, 本地搜索时间: 20\n",
      "客户端索引：2, 本地搜索时间: 20\n",
      "客户端索引：3, 本地搜索时间: 20\n",
      "客户端索引：4, 本地搜索时间: 19\n",
      "客户端索引：5, 本地搜索时间: 19\n",
      "客户端索引：6, 本地搜索时间: 19\n",
      "客户端索引：7, 本地搜索时间: 19\n",
      "客户端索引：8, 本地搜索时间: 19\n",
      "客户端索引：9, 本地搜索时间: 19\n",
      "客户端索引：10, 本地搜索时间: 19\n",
      "客户端索引：11, 本地搜索时间: 19\n",
      "客户端索引：12, 本地搜索时间: 19\n",
      "客户端索引：13, 本地搜索时间: 19\n",
      "客户端索引：14, 本地搜索时间: 19\n",
      "客户端索引：15, 本地搜索时间: 19\n",
      "客户端索引：16, 本地搜索时间: 19\n",
      "客户端索引：17, 本地搜索时间: 19\n",
      "客户端索引：18, 本地搜索时间: 19\n"
     ]
    },
    {
     "name": "stderr",
     "output_type": "stream",
     "text": [
      "  6%|▌         | 3/50 [19:29<5:05:44, 390.31s/it]"
     ]
    },
    {
     "name": "stdout",
     "output_type": "stream",
     "text": [
      "客户端索引：19, 本地搜索时间: 19\n",
      "客户端索引：0, 本地搜索时间: 19\n",
      "客户端索引：1, 本地搜索时间: 19\n",
      "客户端索引：2, 本地搜索时间: 19\n",
      "客户端索引：3, 本地搜索时间: 19\n",
      "客户端索引：4, 本地搜索时间: 19\n",
      "客户端索引：5, 本地搜索时间: 19\n",
      "客户端索引：6, 本地搜索时间: 19\n",
      "客户端索引：7, 本地搜索时间: 19\n",
      "客户端索引：8, 本地搜索时间: 19\n",
      "客户端索引：9, 本地搜索时间: 19\n",
      "客户端索引：10, 本地搜索时间: 19\n",
      "客户端索引：11, 本地搜索时间: 19\n",
      "客户端索引：12, 本地搜索时间: 20\n",
      "客户端索引：13, 本地搜索时间: 19\n",
      "客户端索引：14, 本地搜索时间: 19\n",
      "客户端索引：15, 本地搜索时间: 19\n",
      "客户端索引：16, 本地搜索时间: 18\n",
      "客户端索引：17, 本地搜索时间: 18\n",
      "客户端索引：18, 本地搜索时间: 18\n"
     ]
    },
    {
     "name": "stderr",
     "output_type": "stream",
     "text": [
      "  8%|▊         | 4/50 [25:57<4:58:26, 389.28s/it]"
     ]
    },
    {
     "name": "stdout",
     "output_type": "stream",
     "text": [
      "客户端索引：19, 本地搜索时间: 19\n",
      "客户端索引：0, 本地搜索时间: 19\n",
      "客户端索引：1, 本地搜索时间: 19\n",
      "客户端索引：2, 本地搜索时间: 19\n",
      "客户端索引：3, 本地搜索时间: 18\n",
      "客户端索引：4, 本地搜索时间: 18\n",
      "客户端索引：5, 本地搜索时间: 19\n",
      "客户端索引：6, 本地搜索时间: 19\n",
      "客户端索引：7, 本地搜索时间: 19\n",
      "客户端索引：8, 本地搜索时间: 19\n",
      "客户端索引：9, 本地搜索时间: 19\n",
      "客户端索引：10, 本地搜索时间: 19\n",
      "客户端索引：11, 本地搜索时间: 19\n",
      "客户端索引：12, 本地搜索时间: 19\n",
      "客户端索引：13, 本地搜索时间: 19\n",
      "客户端索引：14, 本地搜索时间: 19\n",
      "客户端索引：15, 本地搜索时间: 19\n",
      "客户端索引：16, 本地搜索时间: 19\n",
      "客户端索引：17, 本地搜索时间: 19\n",
      "客户端索引：18, 本地搜索时间: 19\n"
     ]
    },
    {
     "name": "stderr",
     "output_type": "stream",
     "text": [
      " 10%|█         | 5/50 [32:22<4:50:56, 387.92s/it]"
     ]
    },
    {
     "name": "stdout",
     "output_type": "stream",
     "text": [
      "客户端索引：19, 本地搜索时间: 19\n",
      "客户端索引：0, 本地搜索时间: 19\n",
      "客户端索引：1, 本地搜索时间: 19\n",
      "客户端索引：2, 本地搜索时间: 19\n",
      "客户端索引：3, 本地搜索时间: 19\n",
      "客户端索引：4, 本地搜索时间: 19\n",
      "客户端索引：5, 本地搜索时间: 19\n",
      "客户端索引：6, 本地搜索时间: 19\n",
      "客户端索引：7, 本地搜索时间: 19\n",
      "客户端索引：8, 本地搜索时间: 19\n",
      "客户端索引：9, 本地搜索时间: 19\n",
      "客户端索引：10, 本地搜索时间: 19\n",
      "客户端索引：11, 本地搜索时间: 19\n",
      "客户端索引：12, 本地搜索时间: 19\n",
      "客户端索引：13, 本地搜索时间: 19\n",
      "客户端索引：14, 本地搜索时间: 19\n",
      "客户端索引：15, 本地搜索时间: 19\n",
      "客户端索引：16, 本地搜索时间: 19\n",
      "客户端索引：17, 本地搜索时间: 19\n",
      "客户端索引：18, 本地搜索时间: 19\n"
     ]
    },
    {
     "name": "stderr",
     "output_type": "stream",
     "text": [
      " 12%|█▏        | 6/50 [38:49<4:44:14, 387.60s/it]"
     ]
    },
    {
     "name": "stdout",
     "output_type": "stream",
     "text": [
      "客户端索引：19, 本地搜索时间: 18\n",
      "客户端索引：0, 本地搜索时间: 19\n",
      "客户端索引：1, 本地搜索时间: 19\n",
      "客户端索引：2, 本地搜索时间: 19\n",
      "客户端索引：3, 本地搜索时间: 19\n",
      "客户端索引：4, 本地搜索时间: 19\n",
      "客户端索引：5, 本地搜索时间: 19\n",
      "客户端索引：6, 本地搜索时间: 19\n",
      "客户端索引：7, 本地搜索时间: 19\n",
      "客户端索引：8, 本地搜索时间: 19\n",
      "客户端索引：9, 本地搜索时间: 19\n",
      "客户端索引：10, 本地搜索时间: 19\n",
      "客户端索引：11, 本地搜索时间: 19\n",
      "客户端索引：12, 本地搜索时间: 19\n",
      "客户端索引：13, 本地搜索时间: 19\n",
      "客户端索引：14, 本地搜索时间: 19\n",
      "客户端索引：15, 本地搜索时间: 19\n",
      "客户端索引：16, 本地搜索时间: 19\n",
      "客户端索引：17, 本地搜索时间: 19\n",
      "客户端索引：18, 本地搜索时间: 19\n"
     ]
    },
    {
     "name": "stderr",
     "output_type": "stream",
     "text": [
      " 14%|█▍        | 7/50 [45:15<4:37:20, 387.00s/it]"
     ]
    },
    {
     "name": "stdout",
     "output_type": "stream",
     "text": [
      "客户端索引：19, 本地搜索时间: 19\n",
      "客户端索引：0, 本地搜索时间: 19\n",
      "客户端索引：1, 本地搜索时间: 19\n",
      "客户端索引：2, 本地搜索时间: 19\n",
      "客户端索引：3, 本地搜索时间: 19\n",
      "客户端索引：4, 本地搜索时间: 19\n",
      "客户端索引：5, 本地搜索时间: 19\n",
      "客户端索引：6, 本地搜索时间: 19\n",
      "客户端索引：7, 本地搜索时间: 19\n",
      "客户端索引：8, 本地搜索时间: 19\n",
      "客户端索引：9, 本地搜索时间: 19\n",
      "客户端索引：10, 本地搜索时间: 19\n",
      "客户端索引：11, 本地搜索时间: 19\n",
      "客户端索引：12, 本地搜索时间: 19\n",
      "客户端索引：13, 本地搜索时间: 19\n",
      "客户端索引：14, 本地搜索时间: 19\n",
      "客户端索引：15, 本地搜索时间: 19\n",
      "客户端索引：16, 本地搜索时间: 19\n",
      "客户端索引：17, 本地搜索时间: 19\n",
      "客户端索引：18, 本地搜索时间: 19\n"
     ]
    },
    {
     "name": "stderr",
     "output_type": "stream",
     "text": [
      " 16%|█▌        | 8/50 [51:42<4:30:51, 386.95s/it]"
     ]
    },
    {
     "name": "stdout",
     "output_type": "stream",
     "text": [
      "客户端索引：19, 本地搜索时间: 19\n",
      "客户端索引：0, 本地搜索时间: 19\n",
      "客户端索引：1, 本地搜索时间: 19\n",
      "客户端索引：2, 本地搜索时间: 19\n",
      "客户端索引：3, 本地搜索时间: 19\n",
      "客户端索引：4, 本地搜索时间: 19\n",
      "客户端索引：5, 本地搜索时间: 19\n",
      "客户端索引：6, 本地搜索时间: 19\n",
      "客户端索引：7, 本地搜索时间: 19\n",
      "客户端索引：8, 本地搜索时间: 19\n",
      "客户端索引：9, 本地搜索时间: 19\n",
      "客户端索引：10, 本地搜索时间: 19\n",
      "客户端索引：11, 本地搜索时间: 19\n",
      "客户端索引：12, 本地搜索时间: 19\n",
      "客户端索引：13, 本地搜索时间: 19\n",
      "客户端索引：14, 本地搜索时间: 19\n",
      "客户端索引：15, 本地搜索时间: 19\n",
      "客户端索引：16, 本地搜索时间: 19\n",
      "客户端索引：17, 本地搜索时间: 19\n",
      "客户端索引：18, 本地搜索时间: 19\n"
     ]
    },
    {
     "name": "stderr",
     "output_type": "stream",
     "text": [
      " 18%|█▊        | 9/50 [58:09<4:24:26, 387.00s/it]"
     ]
    },
    {
     "name": "stdout",
     "output_type": "stream",
     "text": [
      "客户端索引：19, 本地搜索时间: 19\n",
      "客户端索引：0, 本地搜索时间: 19\n",
      "客户端索引：1, 本地搜索时间: 19\n",
      "客户端索引：2, 本地搜索时间: 19\n",
      "客户端索引：3, 本地搜索时间: 19\n",
      "客户端索引：4, 本地搜索时间: 19\n",
      "客户端索引：5, 本地搜索时间: 19\n",
      "客户端索引：6, 本地搜索时间: 19\n",
      "客户端索引：7, 本地搜索时间: 19\n",
      "客户端索引：8, 本地搜索时间: 19\n",
      "客户端索引：9, 本地搜索时间: 19\n",
      "客户端索引：10, 本地搜索时间: 19\n",
      "客户端索引：11, 本地搜索时间: 19\n",
      "客户端索引：12, 本地搜索时间: 19\n",
      "客户端索引：13, 本地搜索时间: 19\n",
      "客户端索引：14, 本地搜索时间: 19\n",
      "客户端索引：15, 本地搜索时间: 19\n",
      "客户端索引：16, 本地搜索时间: 19\n",
      "客户端索引：17, 本地搜索时间: 19\n",
      "客户端索引：18, 本地搜索时间: 20\n"
     ]
    },
    {
     "name": "stderr",
     "output_type": "stream",
     "text": [
      " 20%|██        | 10/50 [1:04:38<4:18:28, 387.72s/it]"
     ]
    },
    {
     "name": "stdout",
     "output_type": "stream",
     "text": [
      "客户端索引：19, 本地搜索时间: 19\n",
      "客户端索引：0, 本地搜索时间: 19\n",
      "客户端索引：1, 本地搜索时间: 19\n",
      "客户端索引：2, 本地搜索时间: 19\n",
      "客户端索引：3, 本地搜索时间: 19\n",
      "客户端索引：4, 本地搜索时间: 19\n",
      "客户端索引：5, 本地搜索时间: 19\n",
      "客户端索引：6, 本地搜索时间: 19\n",
      "客户端索引：7, 本地搜索时间: 19\n",
      "客户端索引：8, 本地搜索时间: 19\n",
      "客户端索引：9, 本地搜索时间: 19\n",
      "客户端索引：10, 本地搜索时间: 19\n",
      "客户端索引：11, 本地搜索时间: 19\n",
      "客户端索引：12, 本地搜索时间: 19\n",
      "客户端索引：13, 本地搜索时间: 19\n",
      "客户端索引：14, 本地搜索时间: 19\n",
      "客户端索引：15, 本地搜索时间: 19\n",
      "客户端索引：16, 本地搜索时间: 19\n",
      "客户端索引：17, 本地搜索时间: 19\n",
      "客户端索引：18, 本地搜索时间: 19\n"
     ]
    },
    {
     "name": "stderr",
     "output_type": "stream",
     "text": [
      " 22%|██▏       | 11/50 [1:11:06<4:12:00, 387.70s/it]"
     ]
    },
    {
     "name": "stdout",
     "output_type": "stream",
     "text": [
      "客户端索引：19, 本地搜索时间: 19\n",
      "客户端索引：0, 本地搜索时间: 19\n",
      "客户端索引：1, 本地搜索时间: 19\n",
      "客户端索引：2, 本地搜索时间: 19\n",
      "客户端索引：3, 本地搜索时间: 19\n",
      "客户端索引：4, 本地搜索时间: 19\n",
      "客户端索引：5, 本地搜索时间: 19\n",
      "客户端索引：6, 本地搜索时间: 19\n",
      "客户端索引：7, 本地搜索时间: 19\n",
      "客户端索引：8, 本地搜索时间: 19\n",
      "客户端索引：9, 本地搜索时间: 19\n",
      "客户端索引：10, 本地搜索时间: 19\n",
      "客户端索引：11, 本地搜索时间: 19\n",
      "客户端索引：12, 本地搜索时间: 19\n",
      "客户端索引：13, 本地搜索时间: 19\n",
      "客户端索引：14, 本地搜索时间: 19\n",
      "客户端索引：15, 本地搜索时间: 19\n",
      "客户端索引：16, 本地搜索时间: 19\n",
      "客户端索引：17, 本地搜索时间: 19\n",
      "客户端索引：18, 本地搜索时间: 19\n"
     ]
    },
    {
     "name": "stderr",
     "output_type": "stream",
     "text": [
      " 24%|██▍       | 12/50 [1:17:33<4:05:21, 387.42s/it]"
     ]
    },
    {
     "name": "stdout",
     "output_type": "stream",
     "text": [
      "客户端索引：19, 本地搜索时间: 19\n",
      "客户端索引：0, 本地搜索时间: 19\n",
      "客户端索引：1, 本地搜索时间: 19\n",
      "客户端索引：2, 本地搜索时间: 19\n",
      "客户端索引：3, 本地搜索时间: 19\n",
      "客户端索引：4, 本地搜索时间: 19\n",
      "客户端索引：5, 本地搜索时间: 19\n",
      "客户端索引：6, 本地搜索时间: 19\n",
      "客户端索引：7, 本地搜索时间: 19\n",
      "客户端索引：8, 本地搜索时间: 19\n",
      "客户端索引：9, 本地搜索时间: 19\n",
      "客户端索引：10, 本地搜索时间: 19\n",
      "客户端索引：11, 本地搜索时间: 19\n",
      "客户端索引：12, 本地搜索时间: 19\n",
      "客户端索引：13, 本地搜索时间: 19\n",
      "客户端索引：14, 本地搜索时间: 19\n",
      "客户端索引：15, 本地搜索时间: 19\n",
      "客户端索引：16, 本地搜索时间: 19\n",
      "客户端索引：17, 本地搜索时间: 19\n",
      "客户端索引：18, 本地搜索时间: 18\n"
     ]
    },
    {
     "name": "stderr",
     "output_type": "stream",
     "text": [
      " 26%|██▌       | 13/50 [1:24:00<3:58:49, 387.28s/it]"
     ]
    },
    {
     "name": "stdout",
     "output_type": "stream",
     "text": [
      "客户端索引：19, 本地搜索时间: 19\n",
      "客户端索引：0, 本地搜索时间: 19\n",
      "客户端索引：1, 本地搜索时间: 19\n",
      "客户端索引：2, 本地搜索时间: 19\n",
      "客户端索引：3, 本地搜索时间: 19\n",
      "客户端索引：4, 本地搜索时间: 19\n",
      "客户端索引：5, 本地搜索时间: 19\n",
      "客户端索引：6, 本地搜索时间: 19\n",
      "客户端索引：7, 本地搜索时间: 20\n",
      "客户端索引：8, 本地搜索时间: 19\n",
      "客户端索引：9, 本地搜索时间: 19\n",
      "客户端索引：10, 本地搜索时间: 19\n",
      "客户端索引：11, 本地搜索时间: 19\n",
      "客户端索引：12, 本地搜索时间: 19\n",
      "客户端索引：13, 本地搜索时间: 19\n",
      "客户端索引：14, 本地搜索时间: 19\n",
      "客户端索引：15, 本地搜索时间: 19\n",
      "客户端索引：16, 本地搜索时间: 20\n",
      "客户端索引：17, 本地搜索时间: 19\n",
      "客户端索引：18, 本地搜索时间: 19\n"
     ]
    },
    {
     "name": "stderr",
     "output_type": "stream",
     "text": [
      " 28%|██▊       | 14/50 [1:30:29<3:52:37, 387.72s/it]"
     ]
    },
    {
     "name": "stdout",
     "output_type": "stream",
     "text": [
      "客户端索引：19, 本地搜索时间: 19\n",
      "客户端索引：0, 本地搜索时间: 19\n",
      "客户端索引：1, 本地搜索时间: 19\n",
      "客户端索引：2, 本地搜索时间: 19\n",
      "客户端索引：3, 本地搜索时间: 19\n",
      "客户端索引：4, 本地搜索时间: 19\n",
      "客户端索引：5, 本地搜索时间: 19\n",
      "客户端索引：6, 本地搜索时间: 19\n",
      "客户端索引：7, 本地搜索时间: 19\n",
      "客户端索引：8, 本地搜索时间: 19\n",
      "客户端索引：9, 本地搜索时间: 19\n",
      "客户端索引：10, 本地搜索时间: 19\n",
      "客户端索引：11, 本地搜索时间: 19\n",
      "客户端索引：12, 本地搜索时间: 19\n",
      "客户端索引：13, 本地搜索时间: 19\n",
      "客户端索引：14, 本地搜索时间: 19\n",
      "客户端索引：15, 本地搜索时间: 20\n",
      "客户端索引：16, 本地搜索时间: 19\n",
      "客户端索引：17, 本地搜索时间: 19\n",
      "客户端索引：18, 本地搜索时间: 20\n"
     ]
    },
    {
     "name": "stderr",
     "output_type": "stream",
     "text": [
      " 30%|███       | 15/50 [1:36:58<3:46:29, 388.28s/it]"
     ]
    },
    {
     "name": "stdout",
     "output_type": "stream",
     "text": [
      "客户端索引：19, 本地搜索时间: 19\n",
      "客户端索引：0, 本地搜索时间: 19\n",
      "客户端索引：1, 本地搜索时间: 19\n",
      "客户端索引：2, 本地搜索时间: 20\n",
      "客户端索引：3, 本地搜索时间: 19\n",
      "客户端索引：4, 本地搜索时间: 19\n",
      "客户端索引：5, 本地搜索时间: 20\n",
      "客户端索引：6, 本地搜索时间: 19\n",
      "客户端索引：7, 本地搜索时间: 19\n",
      "客户端索引：8, 本地搜索时间: 20\n",
      "客户端索引：9, 本地搜索时间: 19\n",
      "客户端索引：10, 本地搜索时间: 19\n",
      "客户端索引：11, 本地搜索时间: 19\n",
      "客户端索引：12, 本地搜索时间: 20\n",
      "客户端索引：13, 本地搜索时间: 19\n",
      "客户端索引：14, 本地搜索时间: 19\n",
      "客户端索引：15, 本地搜索时间: 20\n",
      "客户端索引：16, 本地搜索时间: 19\n",
      "客户端索引：17, 本地搜索时间: 19\n",
      "客户端索引：18, 本地搜索时间: 19\n"
     ]
    },
    {
     "name": "stderr",
     "output_type": "stream",
     "text": [
      " 32%|███▏      | 16/50 [1:43:37<3:41:55, 391.62s/it]"
     ]
    },
    {
     "name": "stdout",
     "output_type": "stream",
     "text": [
      "客户端索引：19, 本地搜索时间: 20\n",
      "客户端索引：0, 本地搜索时间: 19\n",
      "客户端索引：1, 本地搜索时间: 19\n",
      "客户端索引：2, 本地搜索时间: 20\n",
      "客户端索引：3, 本地搜索时间: 19\n",
      "客户端索引：4, 本地搜索时间: 19\n",
      "客户端索引：5, 本地搜索时间: 19\n",
      "客户端索引：6, 本地搜索时间: 20\n",
      "客户端索引：7, 本地搜索时间: 19\n",
      "客户端索引：8, 本地搜索时间: 19\n",
      "客户端索引：9, 本地搜索时间: 20\n",
      "客户端索引：10, 本地搜索时间: 19\n",
      "客户端索引：11, 本地搜索时间: 19\n",
      "客户端索引：12, 本地搜索时间: 19\n",
      "客户端索引：13, 本地搜索时间: 20\n",
      "客户端索引：14, 本地搜索时间: 19\n",
      "客户端索引：15, 本地搜索时间: 19\n",
      "客户端索引：16, 本地搜索时间: 20\n",
      "客户端索引：17, 本地搜索时间: 20\n",
      "客户端索引：18, 本地搜索时间: 19\n"
     ]
    },
    {
     "name": "stderr",
     "output_type": "stream",
     "text": [
      " 34%|███▍      | 17/50 [1:50:17<3:36:38, 393.90s/it]"
     ]
    },
    {
     "name": "stdout",
     "output_type": "stream",
     "text": [
      "客户端索引：19, 本地搜索时间: 20\n",
      "客户端索引：0, 本地搜索时间: 19\n",
      "客户端索引：1, 本地搜索时间: 19\n",
      "客户端索引：2, 本地搜索时间: 19\n",
      "客户端索引：3, 本地搜索时间: 20\n",
      "客户端索引：4, 本地搜索时间: 19\n",
      "客户端索引：5, 本地搜索时间: 20\n",
      "客户端索引：6, 本地搜索时间: 20\n",
      "客户端索引：7, 本地搜索时间: 20\n",
      "客户端索引：8, 本地搜索时间: 19\n",
      "客户端索引：9, 本地搜索时间: 19\n",
      "客户端索引：10, 本地搜索时间: 20\n",
      "客户端索引：11, 本地搜索时间: 19\n",
      "客户端索引：12, 本地搜索时间: 19\n",
      "客户端索引：13, 本地搜索时间: 20\n",
      "客户端索引：14, 本地搜索时间: 19\n",
      "客户端索引：15, 本地搜索时间: 19\n",
      "客户端索引：16, 本地搜索时间: 19\n",
      "客户端索引：17, 本地搜索时间: 20\n",
      "客户端索引：18, 本地搜索时间: 20\n"
     ]
    },
    {
     "name": "stderr",
     "output_type": "stream",
     "text": [
      " 36%|███▌      | 18/50 [1:56:59<3:31:23, 396.36s/it]"
     ]
    },
    {
     "name": "stdout",
     "output_type": "stream",
     "text": [
      "客户端索引：19, 本地搜索时间: 20\n",
      "客户端索引：0, 本地搜索时间: 20\n",
      "客户端索引：1, 本地搜索时间: 19\n",
      "客户端索引：2, 本地搜索时间: 19\n",
      "客户端索引：3, 本地搜索时间: 20\n",
      "客户端索引：4, 本地搜索时间: 19\n",
      "客户端索引：5, 本地搜索时间: 19\n",
      "客户端索引：6, 本地搜索时间: 19\n",
      "客户端索引：7, 本地搜索时间: 20\n",
      "客户端索引：8, 本地搜索时间: 19\n",
      "客户端索引：9, 本地搜索时间: 19\n",
      "客户端索引：10, 本地搜索时间: 20\n",
      "客户端索引：11, 本地搜索时间: 19\n",
      "客户端索引：12, 本地搜索时间: 19\n",
      "客户端索引：13, 本地搜索时间: 19\n",
      "客户端索引：14, 本地搜索时间: 20\n",
      "客户端索引：15, 本地搜索时间: 19\n",
      "客户端索引：16, 本地搜索时间: 19\n",
      "客户端索引：17, 本地搜索时间: 20\n",
      "客户端索引：18, 本地搜索时间: 19\n"
     ]
    },
    {
     "name": "stderr",
     "output_type": "stream",
     "text": [
      " 38%|███▊      | 19/50 [2:03:38<3:25:17, 397.34s/it]"
     ]
    },
    {
     "name": "stdout",
     "output_type": "stream",
     "text": [
      "客户端索引：19, 本地搜索时间: 19\n",
      "客户端索引：0, 本地搜索时间: 19\n",
      "客户端索引：1, 本地搜索时间: 20\n",
      "客户端索引：2, 本地搜索时间: 19\n",
      "客户端索引：3, 本地搜索时间: 19\n",
      "客户端索引：4, 本地搜索时间: 20\n",
      "客户端索引：5, 本地搜索时间: 19\n",
      "客户端索引：6, 本地搜索时间: 19\n",
      "客户端索引：7, 本地搜索时间: 20\n",
      "客户端索引：8, 本地搜索时间: 19\n",
      "客户端索引：9, 本地搜索时间: 19\n",
      "客户端索引：10, 本地搜索时间: 19\n",
      "客户端索引：11, 本地搜索时间: 20\n",
      "客户端索引：12, 本地搜索时间: 19\n",
      "客户端索引：13, 本地搜索时间: 19\n",
      "客户端索引：14, 本地搜索时间: 20\n",
      "客户端索引：15, 本地搜索时间: 19\n",
      "客户端索引：16, 本地搜索时间: 19\n",
      "客户端索引：17, 本地搜索时间: 19\n",
      "客户端索引：18, 本地搜索时间: 20\n"
     ]
    },
    {
     "name": "stderr",
     "output_type": "stream",
     "text": [
      " 40%|████      | 20/50 [2:10:18<3:18:56, 397.88s/it]"
     ]
    },
    {
     "name": "stdout",
     "output_type": "stream",
     "text": [
      "客户端索引：19, 本地搜索时间: 19\n",
      "客户端索引：0, 本地搜索时间: 19\n",
      "客户端索引：1, 本地搜索时间: 20\n",
      "客户端索引：2, 本地搜索时间: 19\n",
      "客户端索引：3, 本地搜索时间: 19\n",
      "客户端索引：4, 本地搜索时间: 19\n",
      "客户端索引：5, 本地搜索时间: 20\n",
      "客户端索引：6, 本地搜索时间: 19\n",
      "客户端索引：7, 本地搜索时间: 19\n",
      "客户端索引：8, 本地搜索时间: 20\n",
      "客户端索引：9, 本地搜索时间: 19\n",
      "客户端索引：10, 本地搜索时间: 19\n",
      "客户端索引：11, 本地搜索时间: 20\n",
      "客户端索引：12, 本地搜索时间: 19\n",
      "客户端索引：13, 本地搜索时间: 20\n",
      "客户端索引：14, 本地搜索时间: 19\n",
      "客户端索引：15, 本地搜索时间: 20\n",
      "客户端索引：16, 本地搜索时间: 19\n",
      "客户端索引：17, 本地搜索时间: 19\n",
      "客户端索引：18, 本地搜索时间: 20\n"
     ]
    },
    {
     "name": "stderr",
     "output_type": "stream",
     "text": [
      " 42%|████▏     | 21/50 [2:16:57<3:12:35, 398.47s/it]"
     ]
    },
    {
     "name": "stdout",
     "output_type": "stream",
     "text": [
      "客户端索引：19, 本地搜索时间: 19\n",
      "客户端索引：0, 本地搜索时间: 20\n",
      "客户端索引：1, 本地搜索时间: 19\n",
      "客户端索引：2, 本地搜索时间: 20\n",
      "客户端索引：3, 本地搜索时间: 19\n",
      "客户端索引：4, 本地搜索时间: 19\n",
      "客户端索引：5, 本地搜索时间: 20\n",
      "客户端索引：6, 本地搜索时间: 19\n",
      "客户端索引：7, 本地搜索时间: 19\n",
      "客户端索引：8, 本地搜索时间: 19\n",
      "客户端索引：9, 本地搜索时间: 20\n",
      "客户端索引：10, 本地搜索时间: 19\n",
      "客户端索引：11, 本地搜索时间: 19\n",
      "客户端索引：12, 本地搜索时间: 20\n",
      "客户端索引：13, 本地搜索时间: 19\n",
      "客户端索引：14, 本地搜索时间: 19\n",
      "客户端索引：15, 本地搜索时间: 20\n",
      "客户端索引：16, 本地搜索时间: 19\n",
      "客户端索引：17, 本地搜索时间: 19\n",
      "客户端索引：18, 本地搜索时间: 19\n"
     ]
    },
    {
     "name": "stderr",
     "output_type": "stream",
     "text": [
      " 44%|████▍     | 22/50 [2:23:37<3:06:09, 398.90s/it]"
     ]
    },
    {
     "name": "stdout",
     "output_type": "stream",
     "text": [
      "客户端索引：19, 本地搜索时间: 20\n",
      "客户端索引：0, 本地搜索时间: 19\n",
      "客户端索引：1, 本地搜索时间: 19\n",
      "客户端索引：2, 本地搜索时间: 20\n",
      "客户端索引：3, 本地搜索时间: 19\n",
      "客户端索引：4, 本地搜索时间: 19\n",
      "客户端索引：5, 本地搜索时间: 19\n",
      "客户端索引：6, 本地搜索时间: 20\n",
      "客户端索引：7, 本地搜索时间: 19\n",
      "客户端索引：8, 本地搜索时间: 19\n",
      "客户端索引：9, 本地搜索时间: 20\n",
      "客户端索引：10, 本地搜索时间: 19\n",
      "客户端索引：11, 本地搜索时间: 19\n",
      "客户端索引：12, 本地搜索时间: 19\n",
      "客户端索引：13, 本地搜索时间: 20\n",
      "客户端索引：14, 本地搜索时间: 19\n",
      "客户端索引：15, 本地搜索时间: 19\n",
      "客户端索引：16, 本地搜索时间: 20\n",
      "客户端索引：17, 本地搜索时间: 19\n",
      "客户端索引：18, 本地搜索时间: 19\n"
     ]
    },
    {
     "name": "stderr",
     "output_type": "stream",
     "text": [
      " 46%|████▌     | 23/50 [2:30:17<2:59:39, 399.24s/it]"
     ]
    },
    {
     "name": "stdout",
     "output_type": "stream",
     "text": [
      "客户端索引：19, 本地搜索时间: 20\n",
      "客户端索引：0, 本地搜索时间: 19\n",
      "客户端索引：1, 本地搜索时间: 20\n",
      "客户端索引：2, 本地搜索时间: 19\n",
      "客户端索引：3, 本地搜索时间: 20\n",
      "客户端索引：4, 本地搜索时间: 19\n",
      "客户端索引：5, 本地搜索时间: 19\n",
      "客户端索引：6, 本地搜索时间: 20\n",
      "客户端索引：7, 本地搜索时间: 19\n",
      "客户端索引：8, 本地搜索时间: 19\n",
      "客户端索引：9, 本地搜索时间: 19\n",
      "客户端索引：10, 本地搜索时间: 20\n",
      "客户端索引：11, 本地搜索时间: 19\n",
      "客户端索引：12, 本地搜索时间: 19\n",
      "客户端索引：13, 本地搜索时间: 20\n",
      "客户端索引：14, 本地搜索时间: 19\n",
      "客户端索引：15, 本地搜索时间: 19\n",
      "客户端索引：16, 本地搜索时间: 19\n",
      "客户端索引：17, 本地搜索时间: 20\n",
      "客户端索引：18, 本地搜索时间: 19\n"
     ]
    },
    {
     "name": "stderr",
     "output_type": "stream",
     "text": [
      " 48%|████▊     | 24/50 [2:36:56<2:52:56, 399.08s/it]"
     ]
    },
    {
     "name": "stdout",
     "output_type": "stream",
     "text": [
      "客户端索引：19, 本地搜索时间: 19\n",
      "客户端索引：0, 本地搜索时间: 20\n",
      "客户端索引：1, 本地搜索时间: 19\n",
      "客户端索引：2, 本地搜索时间: 19\n",
      "客户端索引：3, 本地搜索时间: 20\n",
      "客户端索引：4, 本地搜索时间: 19\n",
      "客户端索引：5, 本地搜索时间: 19\n",
      "客户端索引：6, 本地搜索时间: 19\n",
      "客户端索引：7, 本地搜索时间: 20\n",
      "客户端索引：8, 本地搜索时间: 19\n",
      "客户端索引：9, 本地搜索时间: 19\n",
      "客户端索引：10, 本地搜索时间: 20\n",
      "客户端索引：11, 本地搜索时间: 19\n",
      "客户端索引：12, 本地搜索时间: 19\n",
      "客户端索引：13, 本地搜索时间: 20\n",
      "客户端索引：14, 本地搜索时间: 20\n",
      "客户端索引：15, 本地搜索时间: 20\n",
      "客户端索引：16, 本地搜索时间: 19\n",
      "客户端索引：17, 本地搜索时间: 20\n",
      "客户端索引：18, 本地搜索时间: 19\n"
     ]
    },
    {
     "name": "stderr",
     "output_type": "stream",
     "text": [
      " 50%|█████     | 25/50 [2:43:37<2:46:31, 399.66s/it]"
     ]
    },
    {
     "name": "stdout",
     "output_type": "stream",
     "text": [
      "客户端索引：19, 本地搜索时间: 19\n",
      "客户端索引：0, 本地搜索时间: 20\n",
      "客户端索引：1, 本地搜索时间: 19\n",
      "客户端索引：2, 本地搜索时间: 19\n",
      "客户端索引：3, 本地搜索时间: 19\n",
      "客户端索引：4, 本地搜索时间: 20\n",
      "客户端索引：5, 本地搜索时间: 19\n",
      "客户端索引：6, 本地搜索时间: 19\n",
      "客户端索引：7, 本地搜索时间: 20\n",
      "客户端索引：8, 本地搜索时间: 19\n",
      "客户端索引：9, 本地搜索时间: 19\n",
      "客户端索引：10, 本地搜索时间: 19\n",
      "客户端索引：11, 本地搜索时间: 20\n",
      "客户端索引：12, 本地搜索时间: 19\n",
      "客户端索引：13, 本地搜索时间: 19\n",
      "客户端索引：14, 本地搜索时间: 19\n",
      "客户端索引：15, 本地搜索时间: 19\n",
      "客户端索引：16, 本地搜索时间: 19\n",
      "客户端索引：17, 本地搜索时间: 19\n",
      "客户端索引：18, 本地搜索时间: 20\n"
     ]
    },
    {
     "name": "stderr",
     "output_type": "stream",
     "text": [
      " 52%|█████▏    | 26/50 [2:50:13<2:39:28, 398.67s/it]"
     ]
    },
    {
     "name": "stdout",
     "output_type": "stream",
     "text": [
      "客户端索引：19, 本地搜索时间: 19\n",
      "客户端索引：0, 本地搜索时间: 20\n",
      "客户端索引：1, 本地搜索时间: 19\n",
      "客户端索引：2, 本地搜索时间: 19\n",
      "客户端索引：3, 本地搜索时间: 19\n",
      "客户端索引：4, 本地搜索时间: 19\n",
      "客户端索引：5, 本地搜索时间: 19\n",
      "客户端索引：6, 本地搜索时间: 19\n",
      "客户端索引：7, 本地搜索时间: 19\n",
      "客户端索引：8, 本地搜索时间: 19\n",
      "客户端索引：9, 本地搜索时间: 19\n",
      "客户端索引：10, 本地搜索时间: 19\n",
      "客户端索引：11, 本地搜索时间: 19\n",
      "客户端索引：12, 本地搜索时间: 19\n",
      "客户端索引：13, 本地搜索时间: 19\n",
      "客户端索引：14, 本地搜索时间: 19\n",
      "客户端索引：15, 本地搜索时间: 19\n",
      "客户端索引：16, 本地搜索时间: 19\n",
      "客户端索引：17, 本地搜索时间: 19\n",
      "客户端索引：18, 本地搜索时间: 19\n"
     ]
    },
    {
     "name": "stderr",
     "output_type": "stream",
     "text": [
      " 54%|█████▍    | 27/50 [2:56:43<2:31:46, 395.92s/it]"
     ]
    },
    {
     "name": "stdout",
     "output_type": "stream",
     "text": [
      "客户端索引：19, 本地搜索时间: 19\n",
      "客户端索引：0, 本地搜索时间: 20\n",
      "客户端索引：1, 本地搜索时间: 19\n",
      "客户端索引：2, 本地搜索时间: 19\n",
      "客户端索引：3, 本地搜索时间: 19\n",
      "客户端索引：4, 本地搜索时间: 19\n",
      "客户端索引：5, 本地搜索时间: 19\n",
      "客户端索引：6, 本地搜索时间: 19\n",
      "客户端索引：7, 本地搜索时间: 19\n",
      "客户端索引：8, 本地搜索时间: 19\n",
      "客户端索引：9, 本地搜索时间: 19\n",
      "客户端索引：10, 本地搜索时间: 19\n",
      "客户端索引：11, 本地搜索时间: 19\n",
      "客户端索引：12, 本地搜索时间: 19\n",
      "客户端索引：13, 本地搜索时间: 19\n",
      "客户端索引：14, 本地搜索时间: 18\n",
      "客户端索引：15, 本地搜索时间: 19\n",
      "客户端索引：16, 本地搜索时间: 19\n",
      "客户端索引：17, 本地搜索时间: 19\n",
      "客户端索引：18, 本地搜索时间: 19\n"
     ]
    },
    {
     "name": "stderr",
     "output_type": "stream",
     "text": [
      " 56%|█████▌    | 28/50 [3:03:10<2:24:10, 393.19s/it]"
     ]
    },
    {
     "name": "stdout",
     "output_type": "stream",
     "text": [
      "客户端索引：19, 本地搜索时间: 19\n",
      "客户端索引：0, 本地搜索时间: 19\n",
      "客户端索引：1, 本地搜索时间: 19\n",
      "客户端索引：2, 本地搜索时间: 19\n",
      "客户端索引：3, 本地搜索时间: 19\n",
      "客户端索引：4, 本地搜索时间: 19\n",
      "客户端索引：5, 本地搜索时间: 19\n",
      "客户端索引：6, 本地搜索时间: 19\n",
      "客户端索引：7, 本地搜索时间: 19\n",
      "客户端索引：8, 本地搜索时间: 19\n",
      "客户端索引：9, 本地搜索时间: 19\n",
      "客户端索引：10, 本地搜索时间: 19\n",
      "客户端索引：11, 本地搜索时间: 19\n",
      "客户端索引：12, 本地搜索时间: 19\n",
      "客户端索引：13, 本地搜索时间: 19\n",
      "客户端索引：14, 本地搜索时间: 19\n",
      "客户端索引：15, 本地搜索时间: 19\n",
      "客户端索引：16, 本地搜索时间: 19\n",
      "客户端索引：17, 本地搜索时间: 19\n",
      "客户端索引：18, 本地搜索时间: 19\n"
     ]
    },
    {
     "name": "stderr",
     "output_type": "stream",
     "text": [
      " 58%|█████▊    | 29/50 [3:09:37<2:16:57, 391.30s/it]"
     ]
    },
    {
     "name": "stdout",
     "output_type": "stream",
     "text": [
      "客户端索引：19, 本地搜索时间: 19\n",
      "客户端索引：0, 本地搜索时间: 19\n",
      "客户端索引：1, 本地搜索时间: 19\n",
      "客户端索引：2, 本地搜索时间: 19\n",
      "客户端索引：3, 本地搜索时间: 19\n",
      "客户端索引：4, 本地搜索时间: 19\n",
      "客户端索引：5, 本地搜索时间: 19\n",
      "客户端索引：6, 本地搜索时间: 19\n",
      "客户端索引：7, 本地搜索时间: 19\n",
      "客户端索引：8, 本地搜索时间: 19\n",
      "客户端索引：9, 本地搜索时间: 19\n",
      "客户端索引：10, 本地搜索时间: 19\n",
      "客户端索引：11, 本地搜索时间: 19\n",
      "客户端索引：12, 本地搜索时间: 19\n",
      "客户端索引：13, 本地搜索时间: 19\n",
      "客户端索引：14, 本地搜索时间: 19\n",
      "客户端索引：15, 本地搜索时间: 19\n",
      "客户端索引：16, 本地搜索时间: 19\n",
      "客户端索引：17, 本地搜索时间: 19\n",
      "客户端索引：18, 本地搜索时间: 19\n"
     ]
    },
    {
     "name": "stderr",
     "output_type": "stream",
     "text": [
      " 60%|██████    | 30/50 [3:16:03<2:09:58, 389.93s/it]"
     ]
    },
    {
     "name": "stdout",
     "output_type": "stream",
     "text": [
      "客户端索引：19, 本地搜索时间: 19\n",
      "客户端索引：0, 本地搜索时间: 19\n",
      "客户端索引：1, 本地搜索时间: 19\n",
      "客户端索引：2, 本地搜索时间: 19\n",
      "客户端索引：3, 本地搜索时间: 19\n",
      "客户端索引：4, 本地搜索时间: 19\n",
      "客户端索引：5, 本地搜索时间: 19\n",
      "客户端索引：6, 本地搜索时间: 19\n",
      "客户端索引：7, 本地搜索时间: 19\n",
      "客户端索引：8, 本地搜索时间: 19\n",
      "客户端索引：9, 本地搜索时间: 19\n",
      "客户端索引：10, 本地搜索时间: 19\n",
      "客户端索引：11, 本地搜索时间: 19\n",
      "客户端索引：12, 本地搜索时间: 19\n",
      "客户端索引：13, 本地搜索时间: 19\n",
      "客户端索引：14, 本地搜索时间: 19\n",
      "客户端索引：15, 本地搜索时间: 19\n",
      "客户端索引：16, 本地搜索时间: 19\n",
      "客户端索引：17, 本地搜索时间: 19\n",
      "客户端索引：18, 本地搜索时间: 19\n"
     ]
    },
    {
     "name": "stderr",
     "output_type": "stream",
     "text": [
      " 62%|██████▏   | 31/50 [3:22:30<2:03:08, 388.85s/it]"
     ]
    },
    {
     "name": "stdout",
     "output_type": "stream",
     "text": [
      "客户端索引：19, 本地搜索时间: 19\n",
      "客户端索引：0, 本地搜索时间: 19\n",
      "客户端索引：1, 本地搜索时间: 19\n",
      "客户端索引：2, 本地搜索时间: 19\n",
      "客户端索引：3, 本地搜索时间: 19\n",
      "客户端索引：4, 本地搜索时间: 19\n",
      "客户端索引：5, 本地搜索时间: 19\n",
      "客户端索引：6, 本地搜索时间: 19\n",
      "客户端索引：7, 本地搜索时间: 19\n",
      "客户端索引：8, 本地搜索时间: 19\n",
      "客户端索引：9, 本地搜索时间: 19\n",
      "客户端索引：10, 本地搜索时间: 19\n",
      "客户端索引：11, 本地搜索时间: 19\n",
      "客户端索引：12, 本地搜索时间: 19\n",
      "客户端索引：13, 本地搜索时间: 19\n",
      "客户端索引：14, 本地搜索时间: 19\n",
      "客户端索引：15, 本地搜索时间: 19\n",
      "客户端索引：16, 本地搜索时间: 19\n",
      "客户端索引：17, 本地搜索时间: 19\n",
      "客户端索引：18, 本地搜索时间: 19\n"
     ]
    },
    {
     "name": "stderr",
     "output_type": "stream",
     "text": [
      " 64%|██████▍   | 32/50 [3:28:57<1:56:32, 388.49s/it]"
     ]
    },
    {
     "name": "stdout",
     "output_type": "stream",
     "text": [
      "客户端索引：19, 本地搜索时间: 19\n",
      "客户端索引：0, 本地搜索时间: 19\n",
      "客户端索引：1, 本地搜索时间: 19\n",
      "客户端索引：2, 本地搜索时间: 19\n",
      "客户端索引：3, 本地搜索时间: 19\n",
      "客户端索引：4, 本地搜索时间: 19\n",
      "客户端索引：5, 本地搜索时间: 19\n",
      "客户端索引：6, 本地搜索时间: 19\n",
      "客户端索引：7, 本地搜索时间: 19\n",
      "客户端索引：8, 本地搜索时间: 19\n",
      "客户端索引：9, 本地搜索时间: 19\n",
      "客户端索引：10, 本地搜索时间: 19\n",
      "客户端索引：11, 本地搜索时间: 19\n",
      "客户端索引：12, 本地搜索时间: 19\n",
      "客户端索引：13, 本地搜索时间: 19\n",
      "客户端索引：14, 本地搜索时间: 19\n",
      "客户端索引：15, 本地搜索时间: 19\n",
      "客户端索引：16, 本地搜索时间: 19\n",
      "客户端索引：17, 本地搜索时间: 19\n",
      "客户端索引：18, 本地搜索时间: 19\n"
     ]
    },
    {
     "name": "stderr",
     "output_type": "stream",
     "text": [
      " 66%|██████▌   | 33/50 [3:35:27<1:50:09, 388.82s/it]"
     ]
    },
    {
     "name": "stdout",
     "output_type": "stream",
     "text": [
      "客户端索引：19, 本地搜索时间: 19\n",
      "客户端索引：0, 本地搜索时间: 19\n",
      "客户端索引：1, 本地搜索时间: 19\n",
      "客户端索引：2, 本地搜索时间: 19\n",
      "客户端索引：3, 本地搜索时间: 19\n",
      "客户端索引：4, 本地搜索时间: 19\n",
      "客户端索引：5, 本地搜索时间: 19\n",
      "客户端索引：6, 本地搜索时间: 19\n",
      "客户端索引：7, 本地搜索时间: 19\n",
      "客户端索引：8, 本地搜索时间: 20\n",
      "客户端索引：9, 本地搜索时间: 19\n",
      "客户端索引：10, 本地搜索时间: 20\n",
      "客户端索引：11, 本地搜索时间: 19\n",
      "客户端索引：12, 本地搜索时间: 19\n",
      "客户端索引：13, 本地搜索时间: 19\n",
      "客户端索引：14, 本地搜索时间: 19\n",
      "客户端索引：15, 本地搜索时间: 19\n",
      "客户端索引：16, 本地搜索时间: 19\n",
      "客户端索引：17, 本地搜索时间: 19\n",
      "客户端索引：18, 本地搜索时间: 19\n"
     ]
    },
    {
     "name": "stderr",
     "output_type": "stream",
     "text": [
      " 68%|██████▊   | 34/50 [3:41:56<1:43:42, 388.90s/it]"
     ]
    },
    {
     "name": "stdout",
     "output_type": "stream",
     "text": [
      "客户端索引：19, 本地搜索时间: 19\n",
      "客户端索引：0, 本地搜索时间: 20\n",
      "客户端索引：1, 本地搜索时间: 20\n",
      "客户端索引：2, 本地搜索时间: 19\n",
      "客户端索引：3, 本地搜索时间: 19\n",
      "客户端索引：4, 本地搜索时间: 19\n",
      "客户端索引：5, 本地搜索时间: 20\n",
      "客户端索引：6, 本地搜索时间: 19\n",
      "客户端索引：7, 本地搜索时间: 19\n",
      "客户端索引：8, 本地搜索时间: 19\n",
      "客户端索引：9, 本地搜索时间: 19\n",
      "客户端索引：10, 本地搜索时间: 19\n",
      "客户端索引：11, 本地搜索时间: 19\n",
      "客户端索引：12, 本地搜索时间: 19\n",
      "客户端索引：13, 本地搜索时间: 19\n",
      "客户端索引：14, 本地搜索时间: 19\n",
      "客户端索引：15, 本地搜索时间: 19\n",
      "客户端索引：16, 本地搜索时间: 19\n",
      "客户端索引：17, 本地搜索时间: 19\n",
      "客户端索引：18, 本地搜索时间: 19\n"
     ]
    },
    {
     "name": "stderr",
     "output_type": "stream",
     "text": [
      " 70%|███████   | 35/50 [3:48:26<1:37:18, 389.26s/it]"
     ]
    },
    {
     "name": "stdout",
     "output_type": "stream",
     "text": [
      "客户端索引：19, 本地搜索时间: 19\n",
      "客户端索引：0, 本地搜索时间: 19\n",
      "客户端索引：1, 本地搜索时间: 19\n",
      "客户端索引：2, 本地搜索时间: 19\n",
      "客户端索引：3, 本地搜索时间: 19\n",
      "客户端索引：4, 本地搜索时间: 19\n",
      "客户端索引：5, 本地搜索时间: 19\n",
      "客户端索引：6, 本地搜索时间: 20\n",
      "客户端索引：7, 本地搜索时间: 19\n",
      "客户端索引：8, 本地搜索时间: 19\n",
      "客户端索引：9, 本地搜索时间: 19\n",
      "客户端索引：10, 本地搜索时间: 20\n",
      "客户端索引：11, 本地搜索时间: 19\n",
      "客户端索引：12, 本地搜索时间: 19\n",
      "客户端索引：13, 本地搜索时间: 21\n",
      "客户端索引：14, 本地搜索时间: 20\n",
      "客户端索引：15, 本地搜索时间: 20\n",
      "客户端索引：16, 本地搜索时间: 21\n",
      "客户端索引：17, 本地搜索时间: 19\n",
      "客户端索引：18, 本地搜索时间: 19\n"
     ]
    },
    {
     "name": "stderr",
     "output_type": "stream",
     "text": [
      " 72%|███████▏  | 36/50 [3:55:06<1:31:34, 392.43s/it]"
     ]
    },
    {
     "name": "stdout",
     "output_type": "stream",
     "text": [
      "客户端索引：19, 本地搜索时间: 19\n",
      "客户端索引：0, 本地搜索时间: 20\n",
      "客户端索引：1, 本地搜索时间: 19\n",
      "客户端索引：2, 本地搜索时间: 19\n",
      "客户端索引：3, 本地搜索时间: 20\n",
      "客户端索引：4, 本地搜索时间: 19\n",
      "客户端索引：5, 本地搜索时间: 19\n",
      "客户端索引：6, 本地搜索时间: 20\n",
      "客户端索引：7, 本地搜索时间: 20\n",
      "客户端索引：8, 本地搜索时间: 19\n",
      "客户端索引：9, 本地搜索时间: 19\n",
      "客户端索引：10, 本地搜索时间: 20\n",
      "客户端索引：11, 本地搜索时间: 19\n",
      "客户端索引：12, 本地搜索时间: 19\n",
      "客户端索引：13, 本地搜索时间: 19\n",
      "客户端索引：14, 本地搜索时间: 20\n",
      "客户端索引：15, 本地搜索时间: 19\n",
      "客户端索引：16, 本地搜索时间: 19\n",
      "客户端索引：17, 本地搜索时间: 20\n",
      "客户端索引：18, 本地搜索时间: 19\n"
     ]
    },
    {
     "name": "stderr",
     "output_type": "stream",
     "text": [
      " 74%|███████▍  | 37/50 [4:01:46<1:25:29, 394.60s/it]"
     ]
    },
    {
     "name": "stdout",
     "output_type": "stream",
     "text": [
      "客户端索引：19, 本地搜索时间: 19\n",
      "客户端索引：0, 本地搜索时间: 20\n",
      "客户端索引：1, 本地搜索时间: 19\n",
      "客户端索引：2, 本地搜索时间: 19\n",
      "客户端索引：3, 本地搜索时间: 20\n",
      "客户端索引：4, 本地搜索时间: 20\n",
      "客户端索引：5, 本地搜索时间: 19\n",
      "客户端索引：6, 本地搜索时间: 19\n",
      "客户端索引：7, 本地搜索时间: 19\n",
      "客户端索引：8, 本地搜索时间: 19\n",
      "客户端索引：9, 本地搜索时间: 19\n",
      "客户端索引：10, 本地搜索时间: 19\n",
      "客户端索引：11, 本地搜索时间: 19\n",
      "客户端索引：12, 本地搜索时间: 20\n",
      "客户端索引：13, 本地搜索时间: 19\n",
      "客户端索引：14, 本地搜索时间: 19\n",
      "客户端索引：15, 本地搜索时间: 19\n",
      "客户端索引：16, 本地搜索时间: 19\n",
      "客户端索引：17, 本地搜索时间: 19\n",
      "客户端索引：18, 本地搜索时间: 19\n"
     ]
    },
    {
     "name": "stderr",
     "output_type": "stream",
     "text": [
      " 76%|███████▌  | 38/50 [4:08:17<1:18:45, 393.77s/it]"
     ]
    },
    {
     "name": "stdout",
     "output_type": "stream",
     "text": [
      "客户端索引：19, 本地搜索时间: 19\n",
      "客户端索引：0, 本地搜索时间: 19\n",
      "客户端索引：1, 本地搜索时间: 19\n",
      "客户端索引：2, 本地搜索时间: 19\n",
      "客户端索引：3, 本地搜索时间: 19\n",
      "客户端索引：4, 本地搜索时间: 19\n",
      "客户端索引：5, 本地搜索时间: 19\n",
      "客户端索引：6, 本地搜索时间: 19\n",
      "客户端索引：7, 本地搜索时间: 19\n",
      "客户端索引：8, 本地搜索时间: 19\n",
      "客户端索引：9, 本地搜索时间: 19\n",
      "客户端索引：10, 本地搜索时间: 19\n",
      "客户端索引：11, 本地搜索时间: 19\n",
      "客户端索引：12, 本地搜索时间: 19\n",
      "客户端索引：13, 本地搜索时间: 19\n",
      "客户端索引：14, 本地搜索时间: 19\n",
      "客户端索引：15, 本地搜索时间: 19\n",
      "客户端索引：16, 本地搜索时间: 19\n",
      "客户端索引：17, 本地搜索时间: 19\n",
      "客户端索引：18, 本地搜索时间: 19\n"
     ]
    },
    {
     "name": "stderr",
     "output_type": "stream",
     "text": [
      " 78%|███████▊  | 39/50 [4:14:44<1:11:47, 391.56s/it]"
     ]
    },
    {
     "name": "stdout",
     "output_type": "stream",
     "text": [
      "客户端索引：19, 本地搜索时间: 19\n",
      "客户端索引：0, 本地搜索时间: 19\n",
      "客户端索引：1, 本地搜索时间: 19\n",
      "客户端索引：2, 本地搜索时间: 19\n",
      "客户端索引：3, 本地搜索时间: 19\n",
      "客户端索引：4, 本地搜索时间: 19\n",
      "客户端索引：5, 本地搜索时间: 19\n",
      "客户端索引：6, 本地搜索时间: 19\n",
      "客户端索引：7, 本地搜索时间: 19\n",
      "客户端索引：8, 本地搜索时间: 19\n",
      "客户端索引：9, 本地搜索时间: 19\n",
      "客户端索引：10, 本地搜索时间: 19\n",
      "客户端索引：11, 本地搜索时间: 19\n",
      "客户端索引：12, 本地搜索时间: 19\n",
      "客户端索引：13, 本地搜索时间: 19\n",
      "客户端索引：14, 本地搜索时间: 19\n",
      "客户端索引：15, 本地搜索时间: 19\n",
      "客户端索引：16, 本地搜索时间: 19\n",
      "客户端索引：17, 本地搜索时间: 19\n",
      "客户端索引：18, 本地搜索时间: 19\n"
     ]
    },
    {
     "name": "stderr",
     "output_type": "stream",
     "text": [
      " 80%|████████  | 40/50 [4:21:11<1:05:01, 390.18s/it]"
     ]
    },
    {
     "name": "stdout",
     "output_type": "stream",
     "text": [
      "客户端索引：19, 本地搜索时间: 19\n",
      "客户端索引：0, 本地搜索时间: 19\n",
      "客户端索引：1, 本地搜索时间: 19\n",
      "客户端索引：2, 本地搜索时间: 19\n",
      "客户端索引：3, 本地搜索时间: 19\n",
      "客户端索引：4, 本地搜索时间: 19\n",
      "客户端索引：5, 本地搜索时间: 19\n",
      "客户端索引：6, 本地搜索时间: 20\n",
      "客户端索引：7, 本地搜索时间: 19\n",
      "客户端索引：8, 本地搜索时间: 19\n",
      "客户端索引：9, 本地搜索时间: 20\n",
      "客户端索引：10, 本地搜索时间: 19\n",
      "客户端索引：11, 本地搜索时间: 19\n",
      "客户端索引：12, 本地搜索时间: 20\n",
      "客户端索引：13, 本地搜索时间: 19\n",
      "客户端索引：14, 本地搜索时间: 19\n",
      "客户端索引：15, 本地搜索时间: 19\n",
      "客户端索引：16, 本地搜索时间: 20\n",
      "客户端索引：17, 本地搜索时间: 19\n",
      "客户端索引：18, 本地搜索时间: 20\n"
     ]
    },
    {
     "name": "stderr",
     "output_type": "stream",
     "text": [
      " 82%|████████▏ | 41/50 [4:27:50<58:56, 392.99s/it]  "
     ]
    },
    {
     "name": "stdout",
     "output_type": "stream",
     "text": [
      "客户端索引：19, 本地搜索时间: 20\n",
      "客户端索引：0, 本地搜索时间: 19\n",
      "客户端索引：1, 本地搜索时间: 19\n",
      "客户端索引：2, 本地搜索时间: 19\n",
      "客户端索引：3, 本地搜索时间: 20\n",
      "客户端索引：4, 本地搜索时间: 19\n",
      "客户端索引：5, 本地搜索时间: 19\n",
      "客户端索引：6, 本地搜索时间: 20\n",
      "客户端索引：7, 本地搜索时间: 19\n",
      "客户端索引：8, 本地搜索时间: 19\n",
      "客户端索引：9, 本地搜索时间: 19\n",
      "客户端索引：10, 本地搜索时间: 20\n",
      "客户端索引：11, 本地搜索时间: 19\n",
      "客户端索引：12, 本地搜索时间: 19\n",
      "客户端索引：13, 本地搜索时间: 20\n",
      "客户端索引：14, 本地搜索时间: 19\n",
      "客户端索引：15, 本地搜索时间: 19\n",
      "客户端索引：16, 本地搜索时间: 20\n",
      "客户端索引：17, 本地搜索时间: 19\n",
      "客户端索引：18, 本地搜索时间: 19\n"
     ]
    },
    {
     "name": "stderr",
     "output_type": "stream",
     "text": [
      " 84%|████████▍ | 42/50 [4:34:31<52:41, 395.15s/it]"
     ]
    },
    {
     "name": "stdout",
     "output_type": "stream",
     "text": [
      "客户端索引：19, 本地搜索时间: 19\n",
      "客户端索引：0, 本地搜索时间: 20\n",
      "客户端索引：1, 本地搜索时间: 19\n",
      "客户端索引：2, 本地搜索时间: 19\n",
      "客户端索引：3, 本地搜索时间: 20\n",
      "客户端索引：4, 本地搜索时间: 19\n",
      "客户端索引：5, 本地搜索时间: 19\n",
      "客户端索引：6, 本地搜索时间: 19\n",
      "客户端索引：7, 本地搜索时间: 20\n",
      "客户端索引：8, 本地搜索时间: 19\n",
      "客户端索引：9, 本地搜索时间: 19\n",
      "客户端索引：10, 本地搜索时间: 20\n",
      "客户端索引：11, 本地搜索时间: 20\n",
      "客户端索引：12, 本地搜索时间: 19\n",
      "客户端索引：13, 本地搜索时间: 19\n",
      "客户端索引：14, 本地搜索时间: 20\n",
      "客户端索引：15, 本地搜索时间: 19\n",
      "客户端索引：16, 本地搜索时间: 19\n",
      "客户端索引：17, 本地搜索时间: 20\n",
      "客户端索引：18, 本地搜索时间: 19\n"
     ]
    },
    {
     "name": "stderr",
     "output_type": "stream",
     "text": [
      " 86%|████████▌ | 43/50 [4:41:12<46:19, 397.14s/it]"
     ]
    },
    {
     "name": "stdout",
     "output_type": "stream",
     "text": [
      "客户端索引：19, 本地搜索时间: 19\n",
      "客户端索引：0, 本地搜索时间: 20\n",
      "客户端索引：1, 本地搜索时间: 19\n",
      "客户端索引：2, 本地搜索时间: 19\n",
      "客户端索引：3, 本地搜索时间: 19\n",
      "客户端索引：4, 本地搜索时间: 19\n",
      "客户端索引：5, 本地搜索时间: 19\n",
      "客户端索引：6, 本地搜索时间: 19\n",
      "客户端索引：7, 本地搜索时间: 19\n",
      "客户端索引：8, 本地搜索时间: 19\n",
      "客户端索引：9, 本地搜索时间: 19\n",
      "客户端索引：10, 本地搜索时间: 19\n",
      "客户端索引：11, 本地搜索时间: 19\n",
      "客户端索引：12, 本地搜索时间: 19\n",
      "客户端索引：13, 本地搜索时间: 19\n",
      "客户端索引：14, 本地搜索时间: 19\n",
      "客户端索引：15, 本地搜索时间: 19\n",
      "客户端索引：16, 本地搜索时间: 19\n",
      "客户端索引：17, 本地搜索时间: 19\n",
      "客户端索引：18, 本地搜索时间: 19\n"
     ]
    },
    {
     "name": "stderr",
     "output_type": "stream",
     "text": [
      " 88%|████████▊ | 44/50 [4:47:40<39:25, 394.30s/it]"
     ]
    },
    {
     "name": "stdout",
     "output_type": "stream",
     "text": [
      "客户端索引：19, 本地搜索时间: 19\n",
      "客户端索引：0, 本地搜索时间: 19\n",
      "客户端索引：1, 本地搜索时间: 19\n",
      "客户端索引：2, 本地搜索时间: 19\n",
      "客户端索引：3, 本地搜索时间: 19\n",
      "客户端索引：4, 本地搜索时间: 19\n",
      "客户端索引：5, 本地搜索时间: 19\n",
      "客户端索引：6, 本地搜索时间: 19\n",
      "客户端索引：7, 本地搜索时间: 19\n",
      "客户端索引：8, 本地搜索时间: 19\n",
      "客户端索引：9, 本地搜索时间: 20\n",
      "客户端索引：10, 本地搜索时间: 19\n",
      "客户端索引：11, 本地搜索时间: 19\n",
      "客户端索引：12, 本地搜索时间: 19\n",
      "客户端索引：13, 本地搜索时间: 19\n",
      "客户端索引：14, 本地搜索时间: 19\n",
      "客户端索引：15, 本地搜索时间: 19\n",
      "客户端索引：16, 本地搜索时间: 19\n",
      "客户端索引：17, 本地搜索时间: 19\n",
      "客户端索引：18, 本地搜索时间: 19\n"
     ]
    },
    {
     "name": "stderr",
     "output_type": "stream",
     "text": [
      " 90%|█████████ | 45/50 [4:54:09<32:43, 392.69s/it]"
     ]
    },
    {
     "name": "stdout",
     "output_type": "stream",
     "text": [
      "客户端索引：19, 本地搜索时间: 19\n",
      "客户端索引：0, 本地搜索时间: 19\n",
      "客户端索引：1, 本地搜索时间: 19\n",
      "客户端索引：2, 本地搜索时间: 19\n",
      "客户端索引：3, 本地搜索时间: 19\n",
      "客户端索引：4, 本地搜索时间: 19\n",
      "客户端索引：5, 本地搜索时间: 19\n",
      "客户端索引：6, 本地搜索时间: 19\n",
      "客户端索引：7, 本地搜索时间: 19\n",
      "客户端索引：8, 本地搜索时间: 19\n",
      "客户端索引：9, 本地搜索时间: 19\n",
      "客户端索引：10, 本地搜索时间: 19\n",
      "客户端索引：11, 本地搜索时间: 19\n",
      "客户端索引：12, 本地搜索时间: 19\n",
      "客户端索引：13, 本地搜索时间: 19\n",
      "客户端索引：14, 本地搜索时间: 19\n",
      "客户端索引：15, 本地搜索时间: 19\n",
      "客户端索引：16, 本地搜索时间: 19\n",
      "客户端索引：17, 本地搜索时间: 19\n",
      "客户端索引：18, 本地搜索时间: 19\n"
     ]
    },
    {
     "name": "stderr",
     "output_type": "stream",
     "text": [
      " 92%|█████████▏| 46/50 [5:00:36<26:03, 390.99s/it]"
     ]
    },
    {
     "name": "stdout",
     "output_type": "stream",
     "text": [
      "客户端索引：19, 本地搜索时间: 19\n",
      "客户端索引：0, 本地搜索时间: 19\n",
      "客户端索引：1, 本地搜索时间: 19\n",
      "客户端索引：2, 本地搜索时间: 19\n",
      "客户端索引：3, 本地搜索时间: 19\n",
      "客户端索引：4, 本地搜索时间: 19\n",
      "客户端索引：5, 本地搜索时间: 19\n",
      "客户端索引：6, 本地搜索时间: 19\n",
      "客户端索引：7, 本地搜索时间: 19\n",
      "客户端索引：8, 本地搜索时间: 19\n",
      "客户端索引：9, 本地搜索时间: 19\n",
      "客户端索引：10, 本地搜索时间: 19\n",
      "客户端索引：11, 本地搜索时间: 19\n",
      "客户端索引：12, 本地搜索时间: 19\n",
      "客户端索引：13, 本地搜索时间: 19\n",
      "客户端索引：14, 本地搜索时间: 19\n",
      "客户端索引：15, 本地搜索时间: 19\n",
      "客户端索引：16, 本地搜索时间: 20\n",
      "客户端索引：17, 本地搜索时间: 19\n",
      "客户端索引：18, 本地搜索时间: 19\n"
     ]
    },
    {
     "name": "stderr",
     "output_type": "stream",
     "text": [
      " 94%|█████████▍| 47/50 [5:07:10<19:35, 391.79s/it]"
     ]
    },
    {
     "name": "stdout",
     "output_type": "stream",
     "text": [
      "客户端索引：19, 本地搜索时间: 20\n",
      "客户端索引：0, 本地搜索时间: 20\n",
      "客户端索引：1, 本地搜索时间: 19\n",
      "客户端索引：2, 本地搜索时间: 19\n",
      "客户端索引：3, 本地搜索时间: 20\n",
      "客户端索引：4, 本地搜索时间: 19\n",
      "客户端索引：5, 本地搜索时间: 19\n",
      "客户端索引：6, 本地搜索时间: 20\n",
      "客户端索引：7, 本地搜索时间: 19\n",
      "客户端索引：8, 本地搜索时间: 19\n",
      "客户端索引：9, 本地搜索时间: 19\n",
      "客户端索引：10, 本地搜索时间: 20\n",
      "客户端索引：11, 本地搜索时间: 19\n",
      "客户端索引：12, 本地搜索时间: 19\n",
      "客户端索引：13, 本地搜索时间: 20\n",
      "客户端索引：14, 本地搜索时间: 20\n",
      "客户端索引：15, 本地搜索时间: 20\n",
      "客户端索引：16, 本地搜索时间: 20\n",
      "客户端索引：17, 本地搜索时间: 20\n",
      "客户端索引：18, 本地搜索时间: 20\n"
     ]
    },
    {
     "name": "stderr",
     "output_type": "stream",
     "text": [
      " 96%|█████████▌| 48/50 [5:13:53<13:10, 395.14s/it]"
     ]
    },
    {
     "name": "stdout",
     "output_type": "stream",
     "text": [
      "客户端索引：19, 本地搜索时间: 20\n",
      "客户端索引：0, 本地搜索时间: 19\n",
      "客户端索引：1, 本地搜索时间: 20\n",
      "客户端索引：2, 本地搜索时间: 19\n",
      "客户端索引：3, 本地搜索时间: 19\n",
      "客户端索引：4, 本地搜索时间: 19\n",
      "客户端索引：5, 本地搜索时间: 19\n",
      "客户端索引：6, 本地搜索时间: 19\n",
      "客户端索引：7, 本地搜索时间: 19\n",
      "客户端索引：8, 本地搜索时间: 19\n",
      "客户端索引：9, 本地搜索时间: 20\n",
      "客户端索引：10, 本地搜索时间: 20\n",
      "客户端索引：11, 本地搜索时间: 19\n",
      "客户端索引：12, 本地搜索时间: 20\n",
      "客户端索引：13, 本地搜索时间: 20\n",
      "客户端索引：14, 本地搜索时间: 21\n",
      "客户端索引：15, 本地搜索时间: 20\n",
      "客户端索引：16, 本地搜索时间: 20\n",
      "客户端索引：17, 本地搜索时间: 20\n",
      "客户端索引：18, 本地搜索时间: 19\n"
     ]
    },
    {
     "name": "stderr",
     "output_type": "stream",
     "text": [
      " 98%|█████████▊| 49/50 [5:20:31<06:36, 396.10s/it]"
     ]
    },
    {
     "name": "stdout",
     "output_type": "stream",
     "text": [
      "客户端索引：19, 本地搜索时间: 19\n",
      "客户端索引：0, 本地搜索时间: 19\n",
      "客户端索引：1, 本地搜索时间: 19\n",
      "客户端索引：2, 本地搜索时间: 19\n",
      "客户端索引：3, 本地搜索时间: 19\n",
      "客户端索引：4, 本地搜索时间: 19\n",
      "客户端索引：5, 本地搜索时间: 19\n",
      "客户端索引：6, 本地搜索时间: 20\n",
      "客户端索引：7, 本地搜索时间: 20\n",
      "客户端索引：8, 本地搜索时间: 20\n",
      "客户端索引：9, 本地搜索时间: 20\n",
      "客户端索引：10, 本地搜索时间: 20\n",
      "客户端索引：11, 本地搜索时间: 19\n",
      "客户端索引：12, 本地搜索时间: 19\n",
      "客户端索引：13, 本地搜索时间: 19\n",
      "客户端索引：14, 本地搜索时间: 19\n",
      "客户端索引：15, 本地搜索时间: 19\n",
      "客户端索引：16, 本地搜索时间: 19\n",
      "客户端索引：17, 本地搜索时间: 19\n",
      "客户端索引：18, 本地搜索时间: 19\n"
     ]
    },
    {
     "name": "stderr",
     "output_type": "stream",
     "text": [
      "100%|██████████| 50/50 [5:27:03<00:00, 392.48s/it]\n"
     ]
    },
    {
     "name": "stdout",
     "output_type": "stream",
     "text": [
      "客户端索引：19, 本地搜索时间: 19\n",
      "**************全局模型已经搜索完毕**************\n",
      "**************通过全局模型，指导客户端模型进行本地搜索与训练*****************\n"
     ]
    },
    {
     "name": "stderr",
     "output_type": "stream",
     "text": [
      "  0%|          | 0/20 [00:00<?, ?it/s]"
     ]
    },
    {
     "name": "stdout",
     "output_type": "stream",
     "text": [
      "<class 'darts.model_search.Network'>\n",
      "48 48 16\n",
      "48 64 32\n",
      "64 128 64\n"
     ]
    },
    {
     "name": "stderr",
     "output_type": "stream",
     "text": [
      "  5%|▌         | 1/20 [28:14<8:56:39, 1694.73s/it]"
     ]
    },
    {
     "name": "stdout",
     "output_type": "stream",
     "text": [
      "第0个客户端准确率为0.992\n",
      "<class 'darts.model_search.Network'>\n",
      "48 48 16\n",
      "48 64 32\n",
      "64 128 64\n"
     ]
    },
    {
     "name": "stderr",
     "output_type": "stream",
     "text": [
      " 10%|█         | 2/20 [58:31<8:49:55, 1766.43s/it]"
     ]
    },
    {
     "name": "stdout",
     "output_type": "stream",
     "text": [
      "第1个客户端准确率为0.99\n",
      "<class 'darts.model_search.Network'>\n",
      "48 48 16\n",
      "48 64 32\n",
      "64 128 64\n"
     ]
    },
    {
     "name": "stderr",
     "output_type": "stream",
     "text": [
      " 15%|█▌        | 3/20 [1:21:49<7:32:49, 1598.22s/it]"
     ]
    },
    {
     "name": "stdout",
     "output_type": "stream",
     "text": [
      "第2个客户端准确率为0.99\n",
      "<class 'darts.model_search.Network'>\n",
      "48 48 16\n",
      "48 64 32\n",
      "64 128 64\n"
     ]
    },
    {
     "name": "stderr",
     "output_type": "stream",
     "text": [
      " 20%|██        | 4/20 [1:46:53<6:56:15, 1560.94s/it]"
     ]
    },
    {
     "name": "stdout",
     "output_type": "stream",
     "text": [
      "第3个客户端准确率为0.996\n",
      "<class 'darts.model_search.Network'>\n",
      "48 48 16\n",
      "48 64 32\n",
      "64 128 64\n"
     ]
    },
    {
     "name": "stderr",
     "output_type": "stream",
     "text": [
      " 25%|██▌       | 5/20 [2:13:12<6:31:54, 1567.63s/it]"
     ]
    },
    {
     "name": "stdout",
     "output_type": "stream",
     "text": [
      "第4个客户端准确率为0.988\n",
      "<class 'darts.model_search.Network'>\n",
      "48 48 16\n",
      "48 64 32\n",
      "64 128 64\n"
     ]
    },
    {
     "name": "stderr",
     "output_type": "stream",
     "text": [
      " 30%|███       | 6/20 [2:37:31<5:57:11, 1530.81s/it]"
     ]
    },
    {
     "name": "stdout",
     "output_type": "stream",
     "text": [
      "第5个客户端准确率为0.99\n",
      "<class 'darts.model_search.Network'>\n",
      "48 48 16\n",
      "48 64 32\n",
      "64 128 64\n"
     ]
    },
    {
     "name": "stderr",
     "output_type": "stream",
     "text": [
      " 35%|███▌      | 7/20 [3:02:18<5:28:33, 1516.42s/it]"
     ]
    },
    {
     "name": "stdout",
     "output_type": "stream",
     "text": [
      "第6个客户端准确率为0.992\n",
      "<class 'darts.model_search.Network'>\n",
      "48 48 16\n",
      "48 64 32\n",
      "64 128 64\n"
     ]
    },
    {
     "name": "stderr",
     "output_type": "stream",
     "text": [
      " 40%|████      | 8/20 [3:27:11<5:01:46, 1508.91s/it]"
     ]
    },
    {
     "name": "stdout",
     "output_type": "stream",
     "text": [
      "第7个客户端准确率为0.986\n",
      "<class 'darts.model_search.Network'>\n",
      "48 48 16\n",
      "48 64 32\n",
      "64 128 64\n"
     ]
    },
    {
     "name": "stderr",
     "output_type": "stream",
     "text": [
      " 45%|████▌     | 9/20 [3:57:26<4:54:10, 1604.59s/it]"
     ]
    },
    {
     "name": "stdout",
     "output_type": "stream",
     "text": [
      "第8个客户端准确率为0.998\n",
      "<class 'darts.model_search.Network'>\n",
      "48 48 16\n",
      "48 64 32\n",
      "64 128 64\n"
     ]
    },
    {
     "name": "stderr",
     "output_type": "stream",
     "text": [
      " 50%|█████     | 10/20 [4:23:08<4:24:12, 1585.29s/it]"
     ]
    },
    {
     "name": "stdout",
     "output_type": "stream",
     "text": [
      "第9个客户端准确率为0.996\n",
      "<class 'darts.model_search.Network'>\n",
      "48 48 16\n",
      "48 64 32\n",
      "64 128 64\n"
     ]
    },
    {
     "name": "stderr",
     "output_type": "stream",
     "text": [
      " 55%|█████▌    | 11/20 [4:49:17<3:57:02, 1580.22s/it]"
     ]
    },
    {
     "name": "stdout",
     "output_type": "stream",
     "text": [
      "第10个客户端准确率为0.974\n",
      "<class 'darts.model_search.Network'>\n",
      "48 48 16\n",
      "48 64 32\n",
      "64 128 64\n"
     ]
    },
    {
     "name": "stderr",
     "output_type": "stream",
     "text": [
      " 60%|██████    | 12/20 [5:17:03<3:34:10, 1606.33s/it]"
     ]
    },
    {
     "name": "stdout",
     "output_type": "stream",
     "text": [
      "第11个客户端准确率为0.996\n",
      "<class 'darts.model_search.Network'>\n",
      "48 48 16\n",
      "48 64 32\n",
      "64 128 64\n"
     ]
    },
    {
     "name": "stderr",
     "output_type": "stream",
     "text": [
      " 65%|██████▌   | 13/20 [5:44:27<3:08:43, 1617.68s/it]"
     ]
    },
    {
     "name": "stdout",
     "output_type": "stream",
     "text": [
      "第12个客户端准确率为0.998\n",
      "<class 'darts.model_search.Network'>\n",
      "48 48 16\n",
      "48 64 32\n",
      "64 128 64\n"
     ]
    },
    {
     "name": "stderr",
     "output_type": "stream",
     "text": [
      " 70%|███████   | 14/20 [6:11:51<2:42:33, 1625.65s/it]"
     ]
    },
    {
     "name": "stdout",
     "output_type": "stream",
     "text": [
      "第13个客户端准确率为1.0\n",
      "<class 'darts.model_search.Network'>\n",
      "48 48 16\n",
      "48 64 32\n",
      "64 128 64\n"
     ]
    },
    {
     "name": "stderr",
     "output_type": "stream",
     "text": [
      " 75%|███████▌  | 15/20 [6:40:09<2:17:17, 1647.52s/it]"
     ]
    },
    {
     "name": "stdout",
     "output_type": "stream",
     "text": [
      "第14个客户端准确率为1.0\n",
      "<class 'darts.model_search.Network'>\n",
      "48 48 16\n",
      "48 64 32\n",
      "64 128 64\n"
     ]
    },
    {
     "name": "stderr",
     "output_type": "stream",
     "text": [
      " 80%|████████  | 16/20 [7:09:14<1:51:47, 1676.84s/it]"
     ]
    },
    {
     "name": "stdout",
     "output_type": "stream",
     "text": [
      "第15个客户端准确率为0.992\n",
      "<class 'darts.model_search.Network'>\n",
      "48 48 16\n",
      "48 64 32\n",
      "64 128 64\n"
     ]
    },
    {
     "name": "stderr",
     "output_type": "stream",
     "text": [
      " 85%|████████▌ | 17/20 [7:35:32<1:22:21, 1647.24s/it]"
     ]
    },
    {
     "name": "stdout",
     "output_type": "stream",
     "text": [
      "第16个客户端准确率为0.99\n",
      "<class 'darts.model_search.Network'>\n",
      "48 48 16\n",
      "48 64 32\n",
      "64 128 64\n"
     ]
    },
    {
     "name": "stderr",
     "output_type": "stream",
     "text": [
      " 90%|█████████ | 18/20 [7:59:17<52:40, 1580.50s/it]  "
     ]
    },
    {
     "name": "stdout",
     "output_type": "stream",
     "text": [
      "第17个客户端准确率为0.986\n",
      "<class 'darts.model_search.Network'>\n",
      "48 48 16\n",
      "48 64 32\n",
      "64 128 64\n"
     ]
    },
    {
     "name": "stderr",
     "output_type": "stream",
     "text": [
      " 95%|█████████▌| 19/20 [8:20:40<24:51, 1491.15s/it]"
     ]
    },
    {
     "name": "stdout",
     "output_type": "stream",
     "text": [
      "第18个客户端准确率为0.998\n",
      "<class 'darts.model_search.Network'>\n",
      "48 48 16\n",
      "48 64 32\n",
      "64 128 64\n"
     ]
    },
    {
     "name": "stderr",
     "output_type": "stream",
     "text": [
      "100%|██████████| 20/20 [8:48:11<00:00, 1584.59s/it]"
     ]
    },
    {
     "name": "stdout",
     "output_type": "stream",
     "text": [
      "第19个客户端准确率为1.0\n"
     ]
    },
    {
     "name": "stderr",
     "output_type": "stream",
     "text": [
      "\n"
     ]
    }
   ],
   "execution_count": 7
  }
 ],
 "metadata": {
  "kernelspec": {
   "name": "python3",
   "language": "python",
   "display_name": "Python 3 (ipykernel)"
  }
 },
 "nbformat": 4,
 "nbformat_minor": 5
}
